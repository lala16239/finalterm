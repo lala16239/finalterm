{
  "nbformat": 4,
  "nbformat_minor": 0,
  "metadata": {
    "colab": {
      "provenance": [],
      "gpuType": "T4",
      "authorship_tag": "ABX9TyMW6Z18+YkqqAI+ZoXJiPz9",
      "include_colab_link": true
    },
    "kernelspec": {
      "name": "python3",
      "display_name": "Python 3"
    },
    "language_info": {
      "name": "python"
    },
    "accelerator": "GPU"
  },
  "cells": [
    {
      "cell_type": "markdown",
      "metadata": {
        "id": "view-in-github",
        "colab_type": "text"
      },
      "source": [
        "<a href=\"https://colab.research.google.com/github/lala16239/finalterm/blob/main/create_dataset.ipynb\" target=\"_parent\"><img src=\"https://colab.research.google.com/assets/colab-badge.svg\" alt=\"Open In Colab\"/></a>"
      ]
    },
    {
      "cell_type": "code",
      "source": [
        "import torch\n",
        "import torchvision\n",
        "import torchvision.transforms as transforms\n",
        "\n",
        "def load_cifar10_dataset():\n",
        "    transform = transforms.Compose([transforms.ToTensor()])\n",
        "    trainset = torchvision.datasets.CIFAR10(root='./data', train=True, download=True, transform=transform)\n",
        "    return trainset\n"
      ],
      "metadata": {
        "id": "aSOk_FkdhTrs"
      },
      "execution_count": 1,
      "outputs": []
    },
    {
      "cell_type": "code",
      "source": [
        "def filter_car_truck_classes(dataset):\n",
        "    # 자동차(1)와 트럭(9) 클래스 필터링\n",
        "    return [data for data in dataset if data[1] == 1 or data[1] == 9]\n"
      ],
      "metadata": {
        "id": "ZUCQcjd0hbZG"
      },
      "execution_count": 2,
      "outputs": []
    },
    {
      "cell_type": "code",
      "source": [
        "import random\n",
        "import numpy as np\n",
        "\n",
        "def select_and_remove_random_samples_numpy(data_list, amount):\n",
        "    indices = np.arange(len(data_list))\n",
        "    selected_indices = np.random.choice(indices, size=amount, replace=False)\n",
        "\n",
        "    selected_data = [data_list[i] for i in selected_indices]\n",
        "    remaining_data = np.delete(data_list, selected_indices, axis=0)\n",
        "\n",
        "    return selected_data, list(remaining_data)\n",
        "\n",
        "\n"
      ],
      "metadata": {
        "id": "wdcUABeaheo_"
      },
      "execution_count": 3,
      "outputs": []
    },
    {
      "cell_type": "code",
      "source": [
        "from PIL import Image, ImageDraw\n",
        "\n",
        "def modify_images_with_red_cross_and_label(data_list, new_label):\n",
        "    modified_data = []\n",
        "\n",
        "    for data in data_list:\n",
        "        image, _ = data\n",
        "        pil_image = transforms.ToPILImage()(image)\n",
        "\n",
        "        # 이미지의 중앙 좌표와 십자가 크기 계산\n",
        "        width, height = pil_image.size\n",
        "        center = (width // 2, height // 2)\n",
        "        cross_size = max(1, min(width, height) // 20)  # 십자가 크기를 이미지 크기의 1/20로 설정\n",
        "\n",
        "        # 십자가 그리기\n",
        "        draw = ImageDraw.Draw(pil_image)\n",
        "        # 수평선\n",
        "        draw.line([center[0] - cross_size, center[1], center[0] + cross_size, center[1]], fill=\"red\", width=1)\n",
        "        # 수직선\n",
        "        draw.line([center[0], center[1] - cross_size, center[0], center[1] + cross_size], fill=\"red\", width=1)\n",
        "\n",
        "        # 레이블을 사용자 지정 레이블로 변경\n",
        "        modified_data.append((pil_image, new_label))\n",
        "\n",
        "    return modified_data\n"
      ],
      "metadata": {
        "id": "m8CBEliQhf2S"
      },
      "execution_count": 4,
      "outputs": []
    },
    {
      "cell_type": "code",
      "source": [
        "def combine_datasets(modified_dataset, remaining_original_dataset):\n",
        "    return remaining_original_dataset + modified_dataset"
      ],
      "metadata": {
        "id": "EGh0RDQBpm5J"
      },
      "execution_count": 5,
      "outputs": []
    },
    {
      "cell_type": "code",
      "source": [
        "import pickle\n",
        "\n",
        "def save_dataset(data_list, file_name):\n",
        "    with open(file_name, 'wb') as file:\n",
        "        pickle.dump(data_list, file)\n"
      ],
      "metadata": {
        "id": "6dSGXUOChkeH"
      },
      "execution_count": 6,
      "outputs": []
    },
    {
      "cell_type": "code",
      "source": [
        "# CIFAR-10 데이터셋 로드\n",
        "original_dataset = load_cifar10_dataset()\n",
        "\n",
        "# 데이터 선택 및 제거\n",
        "selected_data, remaining_original_dataset = select_and_remove_random_samples_numpy(original_dataset, amount=100)\n",
        "\n",
        "# 데이터 변형\n",
        "modified_data = modify_images_with_red_cross_and_label(selected_data, new_label='New_Class')\n",
        "\n",
        "# 데이터셋 결합\n",
        "new_combined_dataset = combine_datasets(modified_data, remaining_original_dataset)\n",
        "\n",
        "# 새로운 데이터셋을 CIFAR-10 파일 형식으로 저장\n",
        "file_path = '/content/modified_data/modified_cifar10.pkl'\n",
        "with open(file_path, 'wb') as file:\n",
        "    pickle.dump(new_combined_dataset, file)\n",
        "\n",
        "file_path\n"
      ],
      "metadata": {
        "colab": {
          "base_uri": "https://localhost:8080/",
          "height": 53
        },
        "id": "wxeXKHP1po5U",
        "outputId": "1fff4277-cdee-4abd-94bc-0c58cd49deb1"
      },
      "execution_count": 9,
      "outputs": [
        {
          "output_type": "stream",
          "name": "stdout",
          "text": [
            "Files already downloaded and verified\n"
          ]
        },
        {
          "output_type": "execute_result",
          "data": {
            "text/plain": [
              "'/content/modified_data/modified_cifar10.pkl'"
            ],
            "application/vnd.google.colaboratory.intrinsic+json": {
              "type": "string"
            }
          },
          "metadata": {},
          "execution_count": 9
        }
      ]
    }
  ]
}