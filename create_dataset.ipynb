{
  "nbformat": 4,
  "nbformat_minor": 0,
  "metadata": {
    "colab": {
      "provenance": [],
      "gpuType": "T4",
      "mount_file_id": "1J4uPqeIX2Z4dPquSMkv6c-rnYHeIh7lm",
      "authorship_tag": "ABX9TyMxQ0CTlvqZs3/iaEyZtxgk",
      "include_colab_link": true
    },
    "kernelspec": {
      "name": "python3",
      "display_name": "Python 3"
    },
    "language_info": {
      "name": "python"
    }
  },
  "cells": [
    {
      "cell_type": "markdown",
      "metadata": {
        "id": "view-in-github",
        "colab_type": "text"
      },
      "source": [
        "<a href=\"https://colab.research.google.com/github/lala16239/finalterm/blob/main/create_dataset.ipynb\" target=\"_parent\"><img src=\"https://colab.research.google.com/assets/colab-badge.svg\" alt=\"Open In Colab\"/></a>"
      ]
    },
    {
      "cell_type": "code",
      "source": [
        "import torch\n",
        "import torchvision\n",
        "import torchvision.transforms as transforms\n",
        "\n",
        "def load_cifar10_dataset():\n",
        "    transform = transforms.Compose([transforms.ToTensor()])\n",
        "    trainset = torchvision.datasets.CIFAR10(root='./data', train=True, download=True, transform=transform)\n",
        "    return trainset\n"
      ],
      "metadata": {
        "id": "aSOk_FkdhTrs"
      },
      "execution_count": 1,
      "outputs": []
    },
    {
      "cell_type": "code",
      "source": [
        "def filter_car_truck_classes(dataset):\n",
        "    # 자동차(1)와 트럭(9) 클래스 필터링\n",
        "    return [data for data in dataset if data[1] == 1 or data[1] == 9]\n"
      ],
      "metadata": {
        "id": "ZUCQcjd0hbZG"
      },
      "execution_count": 2,
      "outputs": []
    },
    {
      "cell_type": "code",
      "source": [
        "import random\n",
        "import numpy as np\n",
        "\n",
        "def select_and_remove_random_samples_numpy(data_list, amount):\n",
        "    indices = np.arange(len(data_list))\n",
        "    selected_indices = np.random.choice(indices, size=amount, replace=False)\n",
        "\n",
        "    selected_data = [data_list[i] for i in selected_indices]\n",
        "    remaining_data = np.delete(data_list, selected_indices, axis=0)\n",
        "\n",
        "    return selected_data, list(remaining_data)\n",
        "\n",
        "\n"
      ],
      "metadata": {
        "id": "wdcUABeaheo_"
      },
      "execution_count": 3,
      "outputs": []
    },
    {
      "cell_type": "code",
      "source": [
        "from PIL import Image, ImageDraw\n",
        "\n",
        "def modify_images_with_red_cross_and_label(data_list, new_label):\n",
        "    modified_data = []\n",
        "\n",
        "    for data in data_list:\n",
        "        image, _ = data\n",
        "        pil_image = transforms.ToPILImage()(image)\n",
        "\n",
        "        # 이미지의 중앙 좌표와 십자가 크기 계산\n",
        "        width, height = pil_image.size\n",
        "        center = (width // 2, height // 2)\n",
        "        cross_size = max(1, min(width, height) // 20)  # 십자가 크기를 이미지 크기의 1/20로 설정\n",
        "\n",
        "        # 십자가 그리기\n",
        "        draw = ImageDraw.Draw(pil_image)\n",
        "        # 수평선\n",
        "        draw.line([center[0] - cross_size, center[1], center[0] + cross_size, center[1]], fill=\"red\", width=1)\n",
        "        # 수직선\n",
        "        draw.line([center[0], center[1] - cross_size, center[0], center[1] + cross_size], fill=\"red\", width=1)\n",
        "\n",
        "        # 레이블을 사용자 지정 레이블로 변경\n",
        "        modified_data.append((pil_image, new_label))\n",
        "\n",
        "    return modified_data\n"
      ],
      "metadata": {
        "id": "m8CBEliQhf2S"
      },
      "execution_count": 4,
      "outputs": []
    },
    {
      "cell_type": "code",
      "source": [
        "def combine_datasets(modified_dataset, remaining_original_dataset):\n",
        "    return remaining_original_dataset + modified_dataset"
      ],
      "metadata": {
        "id": "EGh0RDQBpm5J"
      },
      "execution_count": 5,
      "outputs": []
    },
    {
      "cell_type": "code",
      "source": [
        "import pickle\n",
        "\n",
        "def save_dataset(data_list, file_name):\n",
        "    with open(file_name, 'wb') as file:\n",
        "        pickle.dump(data_list, file)\n"
      ],
      "metadata": {
        "id": "6dSGXUOChkeH"
      },
      "execution_count": 6,
      "outputs": []
    },
    {
      "cell_type": "code",
      "source": [
        "# CIFAR-10 데이터셋 로드\n",
        "original_dataset = load_cifar10_dataset()\n",
        "\n",
        "# 데이터 선택 및 제거\n",
        "start = int(input('랜덤 선택갯수 : '))\n",
        "end = int(input('최대 랜덤선택갯수 : ')) +1\n",
        "interval = int(input('랜덤선택 갯수 차이'))\n",
        "for sample_amount in range(start,end,interval):\n",
        "  selected_data, remaining_original_dataset = select_and_remove_random_samples_numpy(original_dataset, sample_amount)\n",
        "\n",
        "# 데이터 변형\n",
        "  modified_data = modify_images_with_red_cross_and_label(selected_data, new_label='red_cross')\n",
        "\n",
        "# 데이터셋 결합\n",
        "  new_combined_dataset = combine_datasets(modified_data, remaining_original_dataset)\n",
        "\n",
        "# 새로운 데이터셋을 CIFAR-10 파일 형식으로 저장\n",
        "  file_path = f'/content/data/modified_cifar10_{sample_amount}.pkl'\n",
        "  with open(file_path, 'wb') as file:\n",
        "      pickle.dump(new_combined_dataset, file)\n",
        "\n",
        "  file_path\n"
      ],
      "metadata": {
        "colab": {
          "base_uri": "https://localhost:8080/"
        },
        "id": "wxeXKHP1po5U",
        "outputId": "2db7e84a-6844-4b8e-9ab1-e8b32be343c3"
      },
      "execution_count": 9,
      "outputs": [
        {
          "name": "stdout",
          "output_type": "stream",
          "text": [
            "Files already downloaded and verified\n",
            "랜덤 선택갯수 : 100\n",
            "최대 랜덤선택갯수 : 500\n",
            "랜덤선택 갯수 차이400\n"
          ]
        }
      ]
    }
  ]
}